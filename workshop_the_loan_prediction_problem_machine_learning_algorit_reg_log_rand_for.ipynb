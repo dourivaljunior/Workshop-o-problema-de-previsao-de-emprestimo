{
  "nbformat": 4,
  "nbformat_minor": 0,
  "metadata": {
    "colab": {
      "provenance": [],
      "collapsed_sections": [],
      "authorship_tag": "ABX9TyOy0scDb3SK8YCW3nJGGMUQ",
      "include_colab_link": true
    },
    "kernelspec": {
      "name": "python3",
      "display_name": "Python 3"
    },
    "language_info": {
      "name": "python"
    }
  },
  "cells": [
    {
      "cell_type": "markdown",
      "metadata": {
        "id": "view-in-github",
        "colab_type": "text"
      },
      "source": [
        "<a href=\"https://colab.research.google.com/github/dourivaljunior/arquivos/blob/main/workshop_the_loan_prediction_problem_machine_learning_algorit_reg_log_rand_for.ipynb\" target=\"_parent\"><img src=\"https://colab.research.google.com/assets/colab-badge.svg\" alt=\"Open In Colab\"/></a>"
      ]
    },
    {
      "cell_type": "markdown",
      "source": [
        "#Início da 2a etapa: \n",
        "Importação de Bibliotecas e Arquivo\n"
      ],
      "metadata": {
        "id": "ZblOKbsEuKKP"
      }
    },
    {
      "cell_type": "code",
      "source": [
        "import pandas as pd\n",
        "import numpy as np\n",
        "import matplotlib.pyplot as plt\n",
        "import seaborn as sns"
      ],
      "metadata": {
        "id": "G93yNXuBcIgE"
      },
      "execution_count": 49,
      "outputs": []
    },
    {
      "cell_type": "code",
      "source": [
        "import warnings\n",
        "warnings.filterwarnings(\"ignore\")"
      ],
      "metadata": {
        "id": "Y_vyX5KVYBid"
      },
      "execution_count": 103,
      "outputs": []
    },
    {
      "cell_type": "code",
      "source": [
        "from google.colab import files \n",
        "uploaded = files.upload()"
      ],
      "metadata": {
        "colab": {
          "base_uri": "https://localhost:8080/",
          "height": 73
        },
        "id": "MnaC2cxMugAO",
        "outputId": "544b15a3-5fc1-42db-9ffc-6701ddbc77c8"
      },
      "execution_count": 50,
      "outputs": [
        {
          "output_type": "display_data",
          "data": {
            "text/plain": [
              "<IPython.core.display.HTML object>"
            ],
            "text/html": [
              "\n",
              "     <input type=\"file\" id=\"files-a321976e-d810-484d-a896-7d8bb76606d1\" name=\"files[]\" multiple disabled\n",
              "        style=\"border:none\" />\n",
              "     <output id=\"result-a321976e-d810-484d-a896-7d8bb76606d1\">\n",
              "      Upload widget is only available when the cell has been executed in the\n",
              "      current browser session. Please rerun this cell to enable.\n",
              "      </output>\n",
              "      <script>// Copyright 2017 Google LLC\n",
              "//\n",
              "// Licensed under the Apache License, Version 2.0 (the \"License\");\n",
              "// you may not use this file except in compliance with the License.\n",
              "// You may obtain a copy of the License at\n",
              "//\n",
              "//      http://www.apache.org/licenses/LICENSE-2.0\n",
              "//\n",
              "// Unless required by applicable law or agreed to in writing, software\n",
              "// distributed under the License is distributed on an \"AS IS\" BASIS,\n",
              "// WITHOUT WARRANTIES OR CONDITIONS OF ANY KIND, either express or implied.\n",
              "// See the License for the specific language governing permissions and\n",
              "// limitations under the License.\n",
              "\n",
              "/**\n",
              " * @fileoverview Helpers for google.colab Python module.\n",
              " */\n",
              "(function(scope) {\n",
              "function span(text, styleAttributes = {}) {\n",
              "  const element = document.createElement('span');\n",
              "  element.textContent = text;\n",
              "  for (const key of Object.keys(styleAttributes)) {\n",
              "    element.style[key] = styleAttributes[key];\n",
              "  }\n",
              "  return element;\n",
              "}\n",
              "\n",
              "// Max number of bytes which will be uploaded at a time.\n",
              "const MAX_PAYLOAD_SIZE = 100 * 1024;\n",
              "\n",
              "function _uploadFiles(inputId, outputId) {\n",
              "  const steps = uploadFilesStep(inputId, outputId);\n",
              "  const outputElement = document.getElementById(outputId);\n",
              "  // Cache steps on the outputElement to make it available for the next call\n",
              "  // to uploadFilesContinue from Python.\n",
              "  outputElement.steps = steps;\n",
              "\n",
              "  return _uploadFilesContinue(outputId);\n",
              "}\n",
              "\n",
              "// This is roughly an async generator (not supported in the browser yet),\n",
              "// where there are multiple asynchronous steps and the Python side is going\n",
              "// to poll for completion of each step.\n",
              "// This uses a Promise to block the python side on completion of each step,\n",
              "// then passes the result of the previous step as the input to the next step.\n",
              "function _uploadFilesContinue(outputId) {\n",
              "  const outputElement = document.getElementById(outputId);\n",
              "  const steps = outputElement.steps;\n",
              "\n",
              "  const next = steps.next(outputElement.lastPromiseValue);\n",
              "  return Promise.resolve(next.value.promise).then((value) => {\n",
              "    // Cache the last promise value to make it available to the next\n",
              "    // step of the generator.\n",
              "    outputElement.lastPromiseValue = value;\n",
              "    return next.value.response;\n",
              "  });\n",
              "}\n",
              "\n",
              "/**\n",
              " * Generator function which is called between each async step of the upload\n",
              " * process.\n",
              " * @param {string} inputId Element ID of the input file picker element.\n",
              " * @param {string} outputId Element ID of the output display.\n",
              " * @return {!Iterable<!Object>} Iterable of next steps.\n",
              " */\n",
              "function* uploadFilesStep(inputId, outputId) {\n",
              "  const inputElement = document.getElementById(inputId);\n",
              "  inputElement.disabled = false;\n",
              "\n",
              "  const outputElement = document.getElementById(outputId);\n",
              "  outputElement.innerHTML = '';\n",
              "\n",
              "  const pickedPromise = new Promise((resolve) => {\n",
              "    inputElement.addEventListener('change', (e) => {\n",
              "      resolve(e.target.files);\n",
              "    });\n",
              "  });\n",
              "\n",
              "  const cancel = document.createElement('button');\n",
              "  inputElement.parentElement.appendChild(cancel);\n",
              "  cancel.textContent = 'Cancel upload';\n",
              "  const cancelPromise = new Promise((resolve) => {\n",
              "    cancel.onclick = () => {\n",
              "      resolve(null);\n",
              "    };\n",
              "  });\n",
              "\n",
              "  // Wait for the user to pick the files.\n",
              "  const files = yield {\n",
              "    promise: Promise.race([pickedPromise, cancelPromise]),\n",
              "    response: {\n",
              "      action: 'starting',\n",
              "    }\n",
              "  };\n",
              "\n",
              "  cancel.remove();\n",
              "\n",
              "  // Disable the input element since further picks are not allowed.\n",
              "  inputElement.disabled = true;\n",
              "\n",
              "  if (!files) {\n",
              "    return {\n",
              "      response: {\n",
              "        action: 'complete',\n",
              "      }\n",
              "    };\n",
              "  }\n",
              "\n",
              "  for (const file of files) {\n",
              "    const li = document.createElement('li');\n",
              "    li.append(span(file.name, {fontWeight: 'bold'}));\n",
              "    li.append(span(\n",
              "        `(${file.type || 'n/a'}) - ${file.size} bytes, ` +\n",
              "        `last modified: ${\n",
              "            file.lastModifiedDate ? file.lastModifiedDate.toLocaleDateString() :\n",
              "                                    'n/a'} - `));\n",
              "    const percent = span('0% done');\n",
              "    li.appendChild(percent);\n",
              "\n",
              "    outputElement.appendChild(li);\n",
              "\n",
              "    const fileDataPromise = new Promise((resolve) => {\n",
              "      const reader = new FileReader();\n",
              "      reader.onload = (e) => {\n",
              "        resolve(e.target.result);\n",
              "      };\n",
              "      reader.readAsArrayBuffer(file);\n",
              "    });\n",
              "    // Wait for the data to be ready.\n",
              "    let fileData = yield {\n",
              "      promise: fileDataPromise,\n",
              "      response: {\n",
              "        action: 'continue',\n",
              "      }\n",
              "    };\n",
              "\n",
              "    // Use a chunked sending to avoid message size limits. See b/62115660.\n",
              "    let position = 0;\n",
              "    do {\n",
              "      const length = Math.min(fileData.byteLength - position, MAX_PAYLOAD_SIZE);\n",
              "      const chunk = new Uint8Array(fileData, position, length);\n",
              "      position += length;\n",
              "\n",
              "      const base64 = btoa(String.fromCharCode.apply(null, chunk));\n",
              "      yield {\n",
              "        response: {\n",
              "          action: 'append',\n",
              "          file: file.name,\n",
              "          data: base64,\n",
              "        },\n",
              "      };\n",
              "\n",
              "      let percentDone = fileData.byteLength === 0 ?\n",
              "          100 :\n",
              "          Math.round((position / fileData.byteLength) * 100);\n",
              "      percent.textContent = `${percentDone}% done`;\n",
              "\n",
              "    } while (position < fileData.byteLength);\n",
              "  }\n",
              "\n",
              "  // All done.\n",
              "  yield {\n",
              "    response: {\n",
              "      action: 'complete',\n",
              "    }\n",
              "  };\n",
              "}\n",
              "\n",
              "scope.google = scope.google || {};\n",
              "scope.google.colab = scope.google.colab || {};\n",
              "scope.google.colab._files = {\n",
              "  _uploadFiles,\n",
              "  _uploadFilesContinue,\n",
              "};\n",
              "})(self);\n",
              "</script> "
            ]
          },
          "metadata": {}
        },
        {
          "output_type": "stream",
          "name": "stdout",
          "text": [
            "Saving loan_prediction_dados_processados.csv to loan_prediction_dados_processados (1).csv\n"
          ]
        }
      ]
    },
    {
      "cell_type": "code",
      "source": [
        "df = pd.read_csv('loan_prediction_dados_processados.csv')\n",
        "df.info()"
      ],
      "metadata": {
        "colab": {
          "base_uri": "https://localhost:8080/"
        },
        "id": "RtxvJFR94GRE",
        "outputId": "87133090-2b46-478b-8074-7465479574ae"
      },
      "execution_count": 51,
      "outputs": [
        {
          "output_type": "stream",
          "name": "stdout",
          "text": [
            "<class 'pandas.core.frame.DataFrame'>\n",
            "RangeIndex: 614 entries, 0 to 613\n",
            "Data columns (total 11 columns):\n",
            " #   Column            Non-Null Count  Dtype  \n",
            "---  ------            --------------  -----  \n",
            " 0   Gender            614 non-null    float64\n",
            " 1   Married           614 non-null    float64\n",
            " 2   Dependents        614 non-null    float64\n",
            " 3   Education         614 non-null    float64\n",
            " 4   Self_Employed     614 non-null    float64\n",
            " 5   ApplicantIncome   614 non-null    float64\n",
            " 6   LoanAmount        614 non-null    float64\n",
            " 7   Loan_Amount_Term  614 non-null    float64\n",
            " 8   Credit_History    614 non-null    float64\n",
            " 9   Property_Area     614 non-null    float64\n",
            " 10  Loan_Status       614 non-null    float64\n",
            "dtypes: float64(11)\n",
            "memory usage: 52.9 KB\n"
          ]
        }
      ]
    },
    {
      "cell_type": "markdown",
      "source": [
        "# Revendo a variável Credit_History."
      ],
      "metadata": {
        "id": "Tl-Fy5mM4pZ9"
      }
    },
    {
      "cell_type": "code",
      "source": [
        "sns.countplot(df['Credit_History'])\n",
        "plt.show()"
      ],
      "metadata": {
        "colab": {
          "base_uri": "https://localhost:8080/",
          "height": 280
        },
        "id": "vu1XWXC-ugOZ",
        "outputId": "b0109615-5d75-4e3e-9963-9dd1f108e514"
      },
      "execution_count": 104,
      "outputs": [
        {
          "output_type": "display_data",
          "data": {
            "text/plain": [
              "<Figure size 432x288 with 1 Axes>"
            ],
            "image/png": "[encoded data removed]"
          },
          "metadata": {
            "needs_background": "light"
          }
        }
      ]
    },
    {
      "cell_type": "markdown",
      "source": [
        "#Gerando os conjuntos de treino e de teste"
      ],
      "metadata": {
        "id": "l4hJq6Q35TF6"
      }
    },
    {
      "cell_type": "markdown",
      "source": [
        "Colunas: \n",
        "\n",
        "Variáveis dependentes (x):\n",
        "\n",
        "'Gender','Married','Dependents','Education','Self_Employed','ApplicantIncome',\n",
        "         'LoanAmount','Loan_Amount_Term','Credit_History','Property_Area'.\n",
        "\n",
        "Variável independente (target variable) (y):\n",
        "\n",
        "Loan_Status."
      ],
      "metadata": {
        "id": "WX02N26b76_B"
      }
    },
    {
      "cell_type": "code",
      "source": [
        "columns=['Gender','Married','Dependents','Education','Self_Employed','ApplicantIncome',\n",
        "         'LoanAmount','Loan_Amount_Term','Credit_History','Property_Area']"
      ],
      "metadata": {
        "id": "rcEGSAGQugZw"
      },
      "execution_count": 53,
      "outputs": []
    },
    {
      "cell_type": "markdown",
      "source": [
        "#Separando o dataframe em dois conjuntos; 430 dados para treino e 184 dados para o teste."
      ],
      "metadata": {
        "id": "rGiJLooA54On"
      }
    },
    {
      "cell_type": "code",
      "source": [
        "data_train=df[0:430]      \n",
        "data_test=df[430:614]"
      ],
      "metadata": {
        "id": "L4XVWwI7ugmH"
      },
      "execution_count": 54,
      "outputs": []
    },
    {
      "cell_type": "markdown",
      "source": [
        "Separando os conjuntos de teste x e y."
      ],
      "metadata": {
        "id": "KS92ARXUBI2t"
      }
    },
    {
      "cell_type": "code",
      "source": [
        "x_test=(data_test[columns])\n",
        "y_test=(data_test['Loan_Status'])"
      ],
      "metadata": {
        "id": "kHqHEkZSugwS"
      },
      "execution_count": 55,
      "outputs": []
    },
    {
      "cell_type": "markdown",
      "source": [
        "# Realizando o balanceamento das classes da varíavel 'Credit_History'.\n",
        "Verificando quantos dados são 0 e quantos são 1 na coluna."
      ],
      "metadata": {
        "id": "iCh59Cwx9RSl"
      }
    },
    {
      "cell_type": "code",
      "source": [
        "from sklearn.utils import resample\n",
        "data_train_classe_minoritaria=data_train[data_train.Credit_History==0]\n",
        "data_train_classe_majoritaria=data_train[data_train.Credit_History==1]\n",
        "num=len(data_train_classe_majoritaria)\n",
        "print(data_train_classe_minoritaria.shape,data_train_classe_majoritaria.shape)"
      ],
      "metadata": {
        "colab": {
          "base_uri": "https://localhost:8080/"
        },
        "id": "DRG4R4lgug7v",
        "outputId": "c5cc5ec5-df94-4107-c948-8c89542b569c"
      },
      "execution_count": 56,
      "outputs": [
        {
          "output_type": "stream",
          "name": "stdout",
          "text": [
            "(59, 11) (371, 11)\n"
          ]
        }
      ]
    },
    {
      "cell_type": "markdown",
      "source": [
        "aplicando a técnica do resample."
      ],
      "metadata": {
        "id": "HUmBkatV-sIC"
      }
    },
    {
      "cell_type": "code",
      "source": [
        "data_train_classe_minoritaria_upsampled=resample(data_train_classe_minoritaria,replace = True,n_samples =num,)"
      ],
      "metadata": {
        "id": "Dkg_mxTc9o1V"
      },
      "execution_count": 57,
      "outputs": []
    },
    {
      "cell_type": "markdown",
      "source": [
        "Concatenando as duas classes num novo dataframe.\n",
        "\n",
        "Gerando um novo dataframe agora balanceado.\n"
      ],
      "metadata": {
        "id": "ALvR_w83APd2"
      }
    },
    {
      "cell_type": "code",
      "source": [
        "data_train_balanceados = pd.concat([data_train_classe_majoritaria,data_train_classe_minoritaria_upsampled])"
      ],
      "metadata": {
        "id": "QriiyT0L9pCc"
      },
      "execution_count": 58,
      "outputs": []
    },
    {
      "cell_type": "markdown",
      "source": [
        "Verificando o gráfico."
      ],
      "metadata": {
        "id": "Nu59BPipAhRr"
      }
    },
    {
      "cell_type": "code",
      "source": [
        "sns.countplot(data_train_balanceados['Credit_History'])\n",
        "plt.show()"
      ],
      "metadata": {
        "colab": {
          "base_uri": "https://localhost:8080/",
          "height": 280
        },
        "id": "IVcTLnu49pTv",
        "outputId": "6537353a-9fc0-4d44-89c4-59c7c5925717"
      },
      "execution_count": 105,
      "outputs": [
        {
          "output_type": "display_data",
          "data": {
            "text/plain": [
              "<Figure size 432x288 with 1 Axes>"
            ],
            "image/png": "[encoded data removed]"
          },
          "metadata": {
            "needs_background": "light"
          }
        }
      ]
    },
    {
      "cell_type": "markdown",
      "source": [
        "Gerando os conjuntos de treino x e y."
      ],
      "metadata": {
        "id": "fZXldc8dAwFb"
      }
    },
    {
      "cell_type": "code",
      "source": [
        "x_train=data_train_balanceados[columns]\n",
        "y_train=data_train_balanceados['Loan_Status']"
      ],
      "metadata": {
        "id": "nbDVtsJSAnuR"
      },
      "execution_count": 60,
      "outputs": []
    },
    {
      "cell_type": "markdown",
      "source": [
        "# Implementando o modelo de regressão logística"
      ],
      "metadata": {
        "id": "UA4uf-W8B5HH"
      }
    },
    {
      "cell_type": "markdown",
      "source": [
        "Realizando o treino do modelo com o algoritmo de regressão logística."
      ],
      "metadata": {
        "id": "WBO27OY6GNZI"
      }
    },
    {
      "cell_type": "code",
      "source": [
        "from sklearn.linear_model import LogisticRegression\n",
        "model1=LogisticRegression()\n",
        "model1.fit(x_train,y_train)"
      ],
      "metadata": {
        "colab": {
          "base_uri": "https://localhost:8080/"
        },
        "id": "CIOaZIVtAn41",
        "outputId": "815f0fc9-1edd-4c8a-c5c4-6f001eaf79d9"
      },
      "execution_count": 61,
      "outputs": [
        {
          "output_type": "execute_result",
          "data": {
            "text/plain": [
              "LogisticRegression()"
            ]
          },
          "metadata": {},
          "execution_count": 61
        }
      ]
    },
    {
      "cell_type": "markdown",
      "source": [
        "Realizando o teste."
      ],
      "metadata": {
        "id": "lKmL72S3GRCO"
      }
    },
    {
      "cell_type": "code",
      "source": [
        "from sklearn.metrics import accuracy_score\n",
        "predict1 = model1.predict(x_test)\n",
        "accuracy1 = accuracy_score(y_test, predict1) * 100\n",
        "print (\"A acurácia na média para o conjunto de 184 dados foi de {:.2f}%.\".format(accuracy1))"
      ],
      "metadata": {
        "colab": {
          "base_uri": "https://localhost:8080/"
        },
        "id": "PBHSQJA-AoEG",
        "outputId": "7ecb5d40-ddd9-4ec7-e511-4988ba603f27"
      },
      "execution_count": 62,
      "outputs": [
        {
          "output_type": "stream",
          "name": "stdout",
          "text": [
            "A acurácia na média para o conjunto de 184 dados foi de 81.52%.\n"
          ]
        }
      ]
    },
    {
      "cell_type": "markdown",
      "source": [
        "Realizando um teste com um novo dado."
      ],
      "metadata": {
        "id": "S5NJAYxlRGBn"
      }
    },
    {
      "cell_type": "code",
      "source": [
        "new_data1 = [[0.0,0.0,0.0,1.0,0.0,0.58,0.61,0.74,1.0,1.0]]  \n",
        "new_data2 = [[0.0,1.0,0.33,1.0,0.0,0.54,0.60,0.74,0.0,0.0]]  \n",
        "Faz_Prev = model1.predict(new_data1)\n",
        "Prob=(model1.predict_proba(new_data1))*100\n",
        "if Faz_Prev==0:\n",
        "    print('Empréstimo Negado,  probabilidade de ',Prob)\n",
        "else:\n",
        "    print('Empréstimo Concedido, probabilidade de ',Prob)\n"
      ],
      "metadata": {
        "colab": {
          "base_uri": "https://localhost:8080/"
        },
        "id": "dVlnS8NVOtWK",
        "outputId": "dd811694-9c9d-49fb-c165-d39f1243ab4b"
      },
      "execution_count": 106,
      "outputs": [
        {
          "output_type": "stream",
          "name": "stdout",
          "text": [
            "Empréstimo Concedido, probabilidade de  [[17.65259904 82.34740096]]\n"
          ]
        }
      ]
    },
    {
      "cell_type": "markdown",
      "source": [
        "# Outro algoritmo de machine learning: Random Forest."
      ],
      "metadata": {
        "id": "ikhiRKOLEjwY"
      }
    },
    {
      "cell_type": "code",
      "source": [
        "from sklearn.ensemble import RandomForestClassifier\n",
        "model2 = RandomForestClassifier(n_estimators=10,max_depth=5)\n",
        "model2.fit(x_train, y_train)"
      ],
      "metadata": {
        "colab": {
          "base_uri": "https://localhost:8080/"
        },
        "id": "3TdWYBKOEdpi",
        "outputId": "6c83c4b9-0d4b-4a3a-d249-52647dcd068c"
      },
      "execution_count": 101,
      "outputs": [
        {
          "output_type": "execute_result",
          "data": {
            "text/plain": [
              "RandomForestClassifier(max_depth=5, n_estimators=10)"
            ]
          },
          "metadata": {},
          "execution_count": 101
        }
      ]
    },
    {
      "cell_type": "code",
      "source": [
        "from sklearn.metrics import accuracy_score\n",
        "predict2 = model2.predict(x_test)\n",
        "accuracy2 = accuracy_score(y_test, predict2) * 100\n",
        "print (\"A acurácia na média para o conjunto de 184 dados foi de {:.2f}%.\".format(accuracy2))"
      ],
      "metadata": {
        "colab": {
          "base_uri": "https://localhost:8080/"
        },
        "id": "5XhAZIBNAoPk",
        "outputId": "cd173780-c358-4354-9e7d-88fcbcaea977"
      },
      "execution_count": 102,
      "outputs": [
        {
          "output_type": "stream",
          "name": "stdout",
          "text": [
            "A acurácia na média para o conjunto de 184 dados foi de 78.80%.\n"
          ]
        }
      ]
    },
    {
      "cell_type": "markdown",
      "source": [
        "# Importância das Variáveis.\n",
        "(Feature Importances)"
      ],
      "metadata": {
        "id": "v8ZxZyPkHITz"
      }
    },
    {
      "cell_type": "code",
      "source": [
        "imp_var=df.drop('Loan_Status',axis=1)\n",
        "importances=pd.Series(model2.feature_importances_, index=imp_var.columns)\n",
        "importances.plot(kind='barh',figsize=(10,5))"
      ],
      "metadata": {
        "colab": {
          "base_uri": "https://localhost:8080/",
          "height": 337
        },
        "id": "czp7uaWKFlqN",
        "outputId": "b34beadc-8f6b-4a52-badb-ddae33afec83"
      },
      "execution_count": 107,
      "outputs": [
        {
          "output_type": "execute_result",
          "data": {
            "text/plain": [
              "<matplotlib.axes._subplots.AxesSubplot at 0x7f1326786690>"
            ]
          },
          "metadata": {},
          "execution_count": 107
        },
        {
          "output_type": "display_data",
          "data": {
            "text/plain": [
              "<Figure size 720x360 with 1 Axes>"
            ],
            "image/png": "[encoded data removed]"
          },
          "metadata": {
            "needs_background": "light"
          }
        }
      ]
    },
    {
      "cell_type": "markdown",
      "source": [
        "# FIM"
      ],
      "metadata": {
        "id": "UcA2jr6YHkkQ"
      }
    }
  ]
}